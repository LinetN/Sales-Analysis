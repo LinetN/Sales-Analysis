{
 "cells": [
  {
   "cell_type": "markdown",
   "metadata": {},
   "source": [
    "# Homework Assignment 1"
   ]
  },
  {
   "cell_type": "markdown",
   "metadata": {},
   "source": [
    "### Question 1\n",
    "\n",
    "Assign the variable `a` to the number 7 and the variable `b` to the number 2. Raise `a` to the `b` power and print the result."
   ]
  },
  {
   "cell_type": "code",
   "execution_count": 2,
   "metadata": {},
   "outputs": [
    {
     "name": "stdout",
     "output_type": "stream",
     "text": [
      "49\n"
     ]
    }
   ],
   "source": [
    "a=7\n",
    "b=2\n",
    "print(a**b)"
   ]
  },
  {
   "cell_type": "markdown",
   "metadata": {},
   "source": [
    "### Question 2\n",
    "\n",
    "Write a function called `power` to raise `a` to the `b` power and test it to verify the same answer as Question 1."
   ]
  },
  {
   "cell_type": "code",
   "execution_count": 3,
   "metadata": {},
   "outputs": [
    {
     "name": "stdout",
     "output_type": "stream",
     "text": [
      "49\n"
     ]
    }
   ],
   "source": [
    "power = pow(a,b)\n",
    "print(power)"
   ]
  },
  {
   "cell_type": "markdown",
   "metadata": {},
   "source": [
    "### Question 3\n",
    "\n",
    "Turn the string below into a list and retrieve the 10th element in the list:\n",
    "\n",
    "`'THE FIVE BOXING WIZARDS JUMP QUICKLY'`"
   ]
  },
  {
   "cell_type": "code",
   "execution_count": 4,
   "metadata": {},
   "outputs": [
    {
     "name": "stdout",
     "output_type": "stream",
     "text": [
      "['T', 'H', 'E', ' ', 'F', 'I', 'V', 'E', ' ', 'B', 'O', 'X', 'I', 'N', 'G', ' ', 'W', 'I', 'Z', 'A', 'R', 'D', 'S', ' ', 'J', 'U', 'M', 'P', ' ', 'Q', 'U', 'I', 'C', 'K', 'L', 'Y']\n",
      "B\n"
     ]
    }
   ],
   "source": [
    "string = 'THE FIVE BOXING WIZARDS JUMP QUICKLY'\n",
    "string_list = list(string)\n",
    "print(string_list)\n",
    "tenth_element = string_list[9]\n",
    "print (tenth_element)\n"
   ]
  },
  {
   "cell_type": "markdown",
   "metadata": {},
   "source": [
    "### Question 4\n",
    "\n",
    "Our first day of class, February 15, is the 46th day of the year. Divide 46 by 365, multiply the result by 100, and then cast the resulting floating point number as an integer. What percentage of the year have we completed before our class began?"
   ]
  },
  {
   "cell_type": "code",
   "execution_count": 5,
   "metadata": {},
   "outputs": [
    {
     "data": {
      "text/plain": [
       "12"
      ]
     },
     "execution_count": 5,
     "metadata": {},
     "output_type": "execute_result"
    }
   ],
   "source": [
    "int((46/365)*100)"
   ]
  },
  {
   "cell_type": "markdown",
   "metadata": {},
   "source": [
    "### Question 5\n",
    "\n",
    "Write a function called `oddoreven` using an `if`/`else` statement to determine if the number passed in the function is even or odd. Make sure the function prints `'It is even.'` if the number is even and `'It is odd.'` if the number is odd. Test your function with both an odd and an even number to ensure it works. (**Note:** The modulus operator `%` will return the remainder of a division problem; for even numbers, the result is 0.)"
   ]
  },
  {
   "cell_type": "code",
   "execution_count": 7,
   "metadata": {},
   "outputs": [
    {
     "name": "stdout",
     "output_type": "stream",
     "text": [
      "Enter a number: 9\n",
      "9 is Odd\n"
     ]
    }
   ],
   "source": [
    "oddoreven = int(input(\"Enter a number: \"))\n",
    "if (oddoreven % 2) == 0:\n",
    "   print(\"{0} is Even\".format(oddoreven))\n",
    "else:\n",
    "   print(\"{0} is Odd\".format(oddoreven))"
   ]
  },
  {
   "cell_type": "markdown",
   "metadata": {},
   "source": [
    "### Question 6\n",
    "\n",
    "Create a tuple with the string `'MSBA605'` and multiply it by 5."
   ]
  },
  {
   "cell_type": "code",
   "execution_count": 8,
   "metadata": {},
   "outputs": [
    {
     "data": {
      "text/plain": [
       "['MSBA605MSBA605MSBA605MSBA605MSBA605']"
      ]
     },
     "execution_count": 8,
     "metadata": {},
     "output_type": "execute_result"
    }
   ],
   "source": [
    "my_string = 'MSBA605'\n",
    "my_tuple = my_string,\n",
    "[5*i for i in (my_string,)]"
   ]
  },
  {
   "cell_type": "markdown",
   "metadata": {},
   "source": [
    "### Question 7\n",
    "\n",
    "Create a list called `pres_list` containing the first five presidents of the United States in chronological order: `'Polk'`, `'Taylor'`, `'Fillmore'`, `'Pierce'`, `'Buchanan'`. Sort the list alphabetically, then pop the third element of the list. (**Note:** Remember that Python's list indexing starts at 0!)"
   ]
  },
  {
   "cell_type": "code",
   "execution_count": 9,
   "metadata": {},
   "outputs": [
    {
     "data": {
      "text/plain": [
       "'Pierce'"
      ]
     },
     "execution_count": 9,
     "metadata": {},
     "output_type": "execute_result"
    }
   ],
   "source": [
    "pres_list = ['Polk', 'Taylor', 'Fillmore', 'Pierce', 'Buchanan']\n",
    "pres_list.sort()\n",
    "third_element=pres_list.pop(2)\n",
    "third_element"
   ]
  },
  {
   "cell_type": "markdown",
   "metadata": {},
   "source": [
    "### Question 8\n",
    "\n",
    "Create a dict called `pres_dict` using the first five presidents' surnames as the `keys` and the first year of their administration: `1845`, `1849`, `1850`, `1853`, and `1857` as the `values`. Print the dict's keys and values to ensure that you created it correctly."
   ]
  },
  {
   "cell_type": "code",
   "execution_count": 10,
   "metadata": {},
   "outputs": [
    {
     "data": {
      "text/plain": [
       "{'Polk': 1845,\n",
       " 'Taylor': 1849,\n",
       " 'Fillmore': 1850,\n",
       " 'Pierce': 1853,\n",
       " 'Buchanan': 1857}"
      ]
     },
     "execution_count": 10,
     "metadata": {},
     "output_type": "execute_result"
    }
   ],
   "source": [
    "pres_dict = {'Polk': 1845, 'Taylor': 1849, 'Fillmore': 1850, 'Pierce': 1853, 'Buchanan': 1857}\n",
    "pres_dict"
   ]
  },
  {
   "cell_type": "markdown",
   "metadata": {},
   "source": [
    "### Question 9\n",
    "\n",
    "Using the dict created above, use a dict comprehension to capitalize the surnames of the presidents elected in the 1850s. (**Note:** To access the key and value of each line in the dict, use the `items()` method of the dict.)"
   ]
  },
  {
   "cell_type": "code",
   "execution_count": 13,
   "metadata": {},
   "outputs": [
    {
     "data": {
      "text/plain": [
       "{'FILLMORE': 1850, 'PIERCE': 1853, 'BUCHANAN': 1857}"
      ]
     },
     "execution_count": 13,
     "metadata": {},
     "output_type": "execute_result"
    }
   ],
   "source": [
    "pres_dict2 = {key.upper(): val for key, val in pres_dict.items() if int(val)>1849}\n",
    "pres_dict2\n"
   ]
  },
  {
   "cell_type": "markdown",
   "metadata": {},
   "source": [
    "### Question 10\n",
    "\n",
    "Below are two sets, one of all `presidents` of the United States and one of all `veeps` (vice presidents.) Using set logic, find the names of the vice presidents who went on to become presidents."
   ]
  },
  {
   "cell_type": "code",
   "execution_count": 14,
   "metadata": {},
   "outputs": [
    {
     "data": {
      "text/plain": [
       "{'Andrew Johnson',\n",
       " 'Calvin Coolidge',\n",
       " 'Chester A. Arthur',\n",
       " 'George H. W. Bush',\n",
       " 'Gerald Ford',\n",
       " 'Harry S. Truman',\n",
       " 'Joe Biden',\n",
       " 'John Adams',\n",
       " 'John Tyler',\n",
       " 'Lyndon B. Johnson',\n",
       " 'Martin Van Buren',\n",
       " 'Millard Fillmore',\n",
       " 'Richard Nixon',\n",
       " 'Theodore Roosevelt',\n",
       " 'Thomas Jefferson'}"
      ]
     },
     "execution_count": 14,
     "metadata": {},
     "output_type": "execute_result"
    }
   ],
   "source": [
    "presidents = {'George Washington',  'John Adams', 'Thomas Jefferson', 'James Madison', 'James Monroe', 'John Quincy Adams', 'Andrew Jackson', 'Martin Van Buren', 'William Henry Harrison', 'John Tyler', 'James K. Polk', 'Zachary Taylor', 'Millard Fillmore', 'Franklin Pierce', 'James Buchanan', 'Abraham Lincoln', 'Andrew Johnson', 'Ulysses S. Grant', 'Rutherford B. Hayes', 'James A. Garfield', 'Chester A. Arthur', 'Grover Cleveland', 'Benjamin Harrison', 'William McKinley', 'Theodore Roosevelt', 'William Howard Taft', 'Woodrow Wilson', 'Warren G. Harding', 'Calvin Coolidge', 'Herbert Hoover', 'Franklin D. Roosevelt', 'Harry S. Truman', 'Dwight D. Eisenhower', 'John F. Kennedy', 'Lyndon B. Johnson', 'Richard Nixon', 'Gerald Ford', 'Jimmy Carter', 'Ronald Reagan', 'George H. W. Bush', 'Bill Clinton', 'George W. Bush', 'Barack Obama', 'Donald Trump', 'Joe Biden'}\n",
    "veeps = {'John Adams', 'Thomas Jefferson', 'George Clinton', 'Aaron Burr', 'Elbridge Gerry', 'Daniel D. Tompkins', 'John C. Calhoun', 'Martin Van Buren', 'Richard Mentor Johnson', 'John Tyler', 'Vacant throughout presidency', 'George M. Dallas', 'Millard Fillmore', 'William R. King', 'John C. Breckinridge', 'Hannibal Hamlin', 'Andrew Johnson', 'Schuyler Colfax', 'Henry Wilson', 'William A. Wheeler', 'Chester A. Arthur', 'Thomas A. Hendricks', 'Levi P. Morton', 'Adlai Stevenson', 'Theodore Roosevelt', 'Garret Hobart', 'Charles W. Fairbanks', 'James S. Sherman', 'Thomas R. Marshall', 'Calvin Coolidge', 'Charles G. Dawes', 'Charles Curtis', 'John Nance Garner', 'Henry A. Wallace', 'Harry S. Truman', 'Alben W. Barkley', 'Richard Nixon', 'Lyndon B. Johnson', 'Hubert Humphrey', 'Spiro Agnew', 'Gerald Ford', 'Nelson Rockefeller', 'Walter Mondale', 'George H. W. Bush', 'Dan Quayle', 'Al Gore', 'Dick Cheney', 'Joe Biden', 'Mike Pence', 'Kamala Harris'}\n",
    "intersectionset=presidents.intersection(veeps)\n",
    "intersectionset"
   ]
  },
  {
   "cell_type": "code",
   "execution_count": null,
   "metadata": {},
   "outputs": [],
   "source": []
  }
 ],
 "metadata": {
  "kernelspec": {
   "display_name": "Python 3",
   "language": "python",
   "name": "python3"
  },
  "language_info": {
   "codemirror_mode": {
    "name": "ipython",
    "version": 3
   },
   "file_extension": ".py",
   "mimetype": "text/x-python",
   "name": "python",
   "nbconvert_exporter": "python",
   "pygments_lexer": "ipython3",
   "version": "3.7.6"
  }
 },
 "nbformat": 4,
 "nbformat_minor": 4
}
